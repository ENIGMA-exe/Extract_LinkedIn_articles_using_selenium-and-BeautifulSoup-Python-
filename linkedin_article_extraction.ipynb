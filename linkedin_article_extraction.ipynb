{
 "cells": [
  {
   "cell_type": "code",
   "execution_count": 1,
   "metadata": {},
   "outputs": [],
   "source": [
    "import os,random,sys,time\n",
    "from selenium.webdriver.common.keys import Keys\n",
    "from selenium.webdriver.support.ui import WebDriverWait\n",
    "from selenium.webdriver.support import expected_conditions as EC\n",
    "from selenium.webdriver.common.by import By\n",
    "from selenium import webdriver\n",
    "from bs4 import BeautifulSoup\n",
    "from IPython.display import Markdown, display"
   ]
  },
  {
   "cell_type": "code",
   "execution_count": 2,
   "metadata": {},
   "outputs": [],
   "source": [
    "def printmd(string):\n",
    "    display(Markdown(string))"
   ]
  },
  {
   "cell_type": "code",
   "execution_count": 3,
   "metadata": {},
   "outputs": [],
   "source": [
    "driver = webdriver.Chrome('driver/chromedriver.exe')"
   ]
  },
  {
   "cell_type": "code",
   "execution_count": 4,
   "metadata": {},
   "outputs": [],
   "source": [
    "driver.get('https://www.linkedin.com/uas/login')"
   ]
  },
  {
   "cell_type": "code",
   "execution_count": 5,
   "metadata": {},
   "outputs": [],
   "source": [
    "# file = open('config.txt')\n",
    "# lines = file.readlines()\n",
    "# username = lines[0]\n",
    "# password = lines[1]"
   ]
  },
  {
   "cell_type": "code",
   "execution_count": 6,
   "metadata": {},
   "outputs": [
    {
     "data": {
      "text/markdown": [
       "**Email or Phone -**"
      ],
      "text/plain": [
       "<IPython.core.display.Markdown object>"
      ]
     },
     "metadata": {},
     "output_type": "display_data"
    },
    {
     "name": "stdout",
     "output_type": "stream",
     "text": [
      "nuanmarkus@gmail.com\n"
     ]
    }
   ],
   "source": [
    "time.sleep(3)\n",
    "elementID = driver.find_element_by_id('username')\n",
    "printmd(\"**Email or Phone -**\")\n",
    "username = input()\n",
    "elementID.send_keys(username)"
   ]
  },
  {
   "cell_type": "code",
   "execution_count": 7,
   "metadata": {},
   "outputs": [
    {
     "data": {
      "text/markdown": [
       "**password -**"
      ],
      "text/plain": [
       "<IPython.core.display.Markdown object>"
      ]
     },
     "metadata": {},
     "output_type": "display_data"
    },
    {
     "name": "stdout",
     "output_type": "stream",
     "text": [
      "markusnuan987\n"
     ]
    }
   ],
   "source": [
    "elementID = driver.find_element_by_id('password')\n",
    "printmd(\"**password -**\")\n",
    "password = input()\n",
    "elementID.send_keys(password)"
   ]
  },
  {
   "cell_type": "code",
   "execution_count": 8,
   "metadata": {},
   "outputs": [],
   "source": [
    "elementID.submit()"
   ]
  },
  {
   "cell_type": "code",
   "execution_count": 9,
   "metadata": {},
   "outputs": [
    {
     "data": {
      "text/markdown": [
       "**LinkedIn profile link -**"
      ],
      "text/plain": [
       "<IPython.core.display.Markdown object>"
      ]
     },
     "metadata": {},
     "output_type": "display_data"
    },
    {
     "name": "stdout",
     "output_type": "stream",
     "text": [
      "https://www.linkedin.com/in/williamhgates/\n"
     ]
    }
   ],
   "source": [
    "printmd(\"**LinkedIn profile link -**\")\n",
    "lnk = input()\n",
    "driver.get(lnk)"
   ]
  },
  {
   "cell_type": "code",
   "execution_count": 10,
   "metadata": {},
   "outputs": [
    {
     "name": "stdout",
     "output_type": "stream",
     "text": [
      "NAME:- Bill Gates\n",
      "POSITION:- Co-chair, Bill & Melinda Gates Foundation\n",
      "LOCATION:- Seattle, Washington\n"
     ]
    }
   ],
   "source": [
    "SCROLL_PAUSE_TIME = 2\n",
    "# Get scroll height\n",
    "last_height = driver.execute_script(\"return document.body.scrollHeight\")\n",
    "\n",
    "while True:\n",
    "    # Scroll down to bottom\n",
    "    driver.execute_script(\"window.scrollTo(0, document.body.scrollHeight);\")\n",
    "\n",
    "    # Wait to load page\n",
    "    time.sleep(SCROLL_PAUSE_TIME)\n",
    "\n",
    "    # Calculate new scroll height and compare with last scroll height\n",
    "    new_height = driver.execute_script(\"return document.body.scrollHeight\")\n",
    "    if new_height == last_height:\n",
    "        break\n",
    "    last_height = new_height\n",
    "\n",
    "time.sleep(5)\n",
    "\n",
    "NAME = driver.find_element_by_xpath(\"//li[@class='inline t-24 t-black t-normal break-words']\")\n",
    "print(\"NAME:- \"+ NAME.text)\n",
    "\n",
    "# CONNECTION_TYPE = driver.find_element_by_xpath(\"//span[@class='dist-value']\")\n",
    "# print(\"CONNECTION_TYPE:- \"+ CONNECTION_TYPE.text+\" degree connection\")\n",
    "\n",
    "POSITION = driver.find_element_by_xpath(\"//h2[@class='mt1 t-18 t-black t-normal break-words']\")\n",
    "print(\"POSITION:- \"+ POSITION.text)\n",
    "\n",
    "LOCATION= driver.find_element_by_xpath(\"//li[@class='t-16 t-black t-normal inline-block']\")\n",
    "print(\"LOCATION:- \"+ LOCATION.text)"
   ]
  },
  {
   "cell_type": "markdown",
   "metadata": {},
   "source": [
    "## Activity (Article)"
   ]
  },
  {
   "cell_type": "code",
   "execution_count": 11,
   "metadata": {},
   "outputs": [
    {
     "data": {
      "text/plain": [
       "<selenium.webdriver.remote.webelement.WebElement (session=\"5386f770680758f8dbd0b24e4063d9a1\", element=\"734e1845-f3c0-4ff5-b464-b4e5e6e00e5f\")>"
      ]
     },
     "execution_count": 11,
     "metadata": {},
     "output_type": "execute_result"
    }
   ],
   "source": [
    "time.sleep(3)\n",
    "\n",
    "driver.execute_script(\"window.scrollTo(0, document.body.scrollHeight/2);\")\n",
    "\n",
    "time.sleep(5)\n",
    "    \n",
    "WebDriverWait(driver, 10).until(EC.presence_of_element_located((By.CLASS_NAME, \"pv-profile-section__card-action-bar\")))"
   ]
  },
  {
   "cell_type": "code",
   "execution_count": 12,
   "metadata": {},
   "outputs": [],
   "source": [
    "activity = driver.find_element_by_xpath(\"//a[@data-control-name='recent_activity_details_all']\")\n",
    "driver.get(activity.get_attribute('href'))"
   ]
  },
  {
   "cell_type": "markdown",
   "metadata": {},
   "source": [
    "### note - class may be vary for diff. types of pages."
   ]
  },
  {
   "cell_type": "code",
   "execution_count": 13,
   "metadata": {
    "scrolled": false
   },
   "outputs": [],
   "source": [
    "WebDriverWait(driver, 10).until(EC.presence_of_element_located((By.CLASS_NAME, \"pv-recent-activity-detail__pills\")))\n",
    "\n",
    "nav = driver.find_element_by_xpath(\"//nav[@class='pv-recent-activity-detail__pills mt4']\")\n",
    "articles = nav.find_elements_by_tag_name('button')\n",
    "articles[1].click()\n",
    "time.sleep(3)"
   ]
  },
  {
   "cell_type": "code",
   "execution_count": 14,
   "metadata": {
    "scrolled": true
   },
   "outputs": [],
   "source": [
    "url = driver.current_url\n",
    "driver.get(url)\n",
    "\n",
    "SCROLL_PAUSE_TIME = 2\n",
    "# Get scroll height\n",
    "last_height = driver.execute_script(\"return document.body.scrollHeight\")\n",
    "while True:\n",
    "    # Scroll down to bottom\n",
    "    driver.execute_script(\"window.scrollTo(0, document.body.scrollHeight);\")\n",
    "\n",
    "    # Wait to load page\n",
    "    time.sleep(SCROLL_PAUSE_TIME)\n",
    "\n",
    "    # Calculate new scroll height and compare with last scroll height\n",
    "    new_height = driver.execute_script(\"return document.body.scrollHeight\")\n",
    "    if new_height == last_height:\n",
    "        break\n",
    "    last_height = new_height    "
   ]
  },
  {
   "cell_type": "code",
   "execution_count": 15,
   "metadata": {},
   "outputs": [
    {
     "data": {
      "text/markdown": [
       "**Heading:-** How to help students get to college in the COVID era"
      ],
      "text/plain": [
       "<IPython.core.display.Markdown object>"
      ]
     },
     "metadata": {},
     "output_type": "display_data"
    },
    {
     "name": "stdout",
     "output_type": "stream",
     "text": [
      "There’s one set of questions on the mind of everyone in the education world right now: What should schools do in the fall? Should they let students come to class in person? If they do, can they ensure that teachers, staff, and students will be safe from COVID-19?\n",
      "Of course these questions deserve to be discussed at length, and they are. But there’s another crucial issue that we can’t afford to overlook: What does the future look like for the high school classes of 2020 and beyond? As much as we’re rightly focused on what happens this fall, we also need to look ahead to next spring and beyond. If we don’t, COVID-19 could—on top of the horrific toll it has already taken—permanently derail the dreams of hundreds of thousands of young people.\n",
      "As I have written before, by 2025 two thirds of all jobs in the United States will require some education beyond 12th grade. That can involve a wide range of credentials—including a certificate from professional training, an associate’s degree from a two-year college, or a bachelor’s degree from a four-year university—but for simplicity’s sake, I will call it graduating from college.\n",
      "Our foundation has been working for years to help more students finish college. Through that work, we’ve learned it’s impossible to raise college graduation numbers unless more young people make it to college to begin with—and that requires helping them navigate the difficult transition from high school to postsecondary work. If you don’t start college within two years of getting your diploma, the statistics show that it gets harder and harder to come back for your degree as an adult.\n",
      "Unfortunately, 30 percent of white students and 35 to 40 percent of Black and Latinx students don’t enroll in college within two years of finishing high school—and these numbers are poised to skyrocket with the impact of COVID-19.\n",
      "There are many reasons why students don’t start college. Some aren’t academically prepared, a situation made worse now by the fact that Black and Latinx high school students from low-income homes are significantly less likely than their white peers to be taking classes online while schools are closed.\n",
      "Another reason is that many students don’t get the counseling and advising they need in high school to understand their college options, write strong applications, and figure out how to maximize their financial aid. This is an even bigger problem now, since closing schools has also meant closing counseling offices.\n",
      "Applying for college is especially difficult for students who are the first in their family to go. It’s hard enough to pick schools that match your interests, aspirations, and abilities, navigate the admissions process, apply for financial aid, and make sure you enroll in the right classes, all while possibly holding a job as well. It’s even harder if you don’t know anyone who has done it before. And the stakes are high, when making just one wrong decision can throw you off the degree path forever.\n",
      "In short, because of long-standing barriers that are made worse by COVID-19, hundreds of thousands of students with promise—most of them Black, Latinx, or from low-income households—may never start college. This would be disastrous for these young people and for the country.\n",
      "So our foundation is expanding our partnerships with three organizations that work to give students the support they need to get, and stay, on a path to a college degree.\n",
      "College Advising Corps places college graduates into high schools where they serve as full-time college advisors, helping students find schools, apply, and get ready to attend. CAC currently works in 782 high schools across the country, with impressive results. In 2018, the students they met with were 18 percent more likely to apply to a college or university and 19 percent more likely to get in. Since the pandemic started, College Advising Corps and its partners have identified more than 170,000 students who were partway through applying for college and financial aid, and with support from our foundation, they’ve enabled advisors to connect with these students virtually to help them finish the process.\n",
      "Another grantee, City Year, places what they call “student success coaches” into high schools to provide role models, offer encouragement, and help students make decisions that keep them on track for college. By developing strong personal relationships with students and working on both academic and social and emotional skills, they help make sure each student feels connected to school. They also watch for early warning indicators that can predict when a student might be disconnecting from school and, if necessary, they’ll step in with one-on one support and small group meetings.\n",
      "Finally, Saga Education embeds math tutors in high schools, where they work with students who need help with algebra, and also gives the students access to an online learning platform. The goal is to help them pass algebra and move to higher levels of math, and the results speak for themselves: Saga students pick up an extra 2.5 years’ worth of math in one academic year and are 60 percent less likely to fail a math class. The impact even ripples out to other courses; students who work with Saga’s tutors are also significantly less likely to fail classes in other subjects. Our foundation recently funded 28 Saga tutors for six high schools in New York City; they’ll work with 2,000 9th graders over the next two years.\n",
      "Even though they work on different aspects of the problem, CAC, City Year, and Saga have a lot in common. They work with the AmeriCorps national service program to find talented young adults to serve in these roles. That approach not only lets them keep their costs low; it also allows them to use a “near peer” approach employing recent college graduates, so that students can see themselves in their coaches and tutors. And they’re using digital platforms to reach students whose schools have shut down, and to make their work more effective.\n",
      "Our foundation has committed more than $23 million to these three organizations. But additional funding from other groups would allow them to expand even more. College Advising Corps aims to reach an additional 300,000 students and help 69,000 more students get into college. City Year could triple the number of coaches serving students in school districts with especially high dropout rates. And Saga could double the number of students who get tutoring help, ultimately connecting with 10,000 to 15,000 young people.\n",
      "All young people should get the advising, tutoring, and coaching they need to get on the college pathway that’s right for them. And because of COVID-19, this work is especially urgent for the next few classes of graduating seniors. As the country focuses on the needs of these young people, supporting College Advising Corps, City Year, and Saga would be a great start.\n",
      "If you’re a recent college graduate, I hope you’ll consider serving with one of these organizations. They’re always in need of talented people to inspire young students.\n",
      "It’s impossible to list all the ways that COVID-19 has upended America’s education system. And tutoring, mentoring, and advising aren’t silver bullets that will solve every problem. But they will be an essential part of keeping young people on the track to a brighter future.\n",
      "This originally appeared on gatesnotes.com.\n",
      "\n"
     ]
    },
    {
     "data": {
      "text/markdown": [
       "**END**"
      ],
      "text/plain": [
       "<IPython.core.display.Markdown object>"
      ]
     },
     "metadata": {},
     "output_type": "display_data"
    },
    {
     "data": {
      "text/markdown": [
       "**Heading:-** COVID-19 is awful. Climate change could be worse."
      ],
      "text/plain": [
       "<IPython.core.display.Markdown object>"
      ]
     },
     "metadata": {},
     "output_type": "display_data"
    },
    {
     "name": "stdout",
     "output_type": "stream",
     "text": [
      "A global crisis has shocked the world. It is causing a tragic number of deaths, making people afraid to leave home, and leading to economic hardship not seen in many generations. Its effects are rippling across the world.\n",
      "Obviously, I am talking about COVID-19. But in just a few decades, the same description will fit another global crisis: climate change. As awful as this pandemic is, climate change could be worse.\n",
      "I realize that it’s hard to think about a problem like climate change right now. When disaster strikes, it is human nature to worry only about meeting our most immediate needs, especially when the disaster is as bad as COVID-19. But the fact that dramatically higher temperatures seem far off in the future does not make them any less of a problem—and the only way to avoid the worst possible climate outcomes is to accelerate our efforts now. Even as the world works to stop the novel coronavirus and begin recovering from it, we also need to act now to avoid a climate disaster by building and deploying innovations that will let us eliminate our greenhouse gas emissions.\n",
      "You may have seen projections that, because economic activity has slowed down so much, the world will emit fewer greenhouse gases this year than last year. Although these projections are certainly true, their importance for the fight against climate change has been overstated.\n",
      "Analysts disagree about how much emissions will go down this year, but the International Energy Agency puts the reduction around 8 percent. In real terms, that means we will release the equivalent of around 47 billion tons of carbon, instead of 51 billion.\n",
      "That’s a meaningful reduction, and we would be in great shape if we could continue that rate of decrease every year. Unfortunately, we can’t.\n",
      "Consider what it’s taking to achieve this 8 percent reduction. More than 600,000 people have died, and tens of millions are out of work. This April, car traffic was half what it was in April 2019. For months, air traffic virtually came to a halt.\n",
      "To put it mildly, this is not a situation that anyone would want to continue. And yet we are still on track to emit 92 percent as much carbon as we did last year. What’s remarkable is not how much emissions will go down because of the pandemic, but how little.\n",
      "In addition, these reductions are being achieved at, literally, the greatest possible cost.\n",
      "To see why, let’s look at what it costs to avert a single ton of greenhouse gases. This figure—the cost per ton of carbon averted—is a tool that economists use to compare the expense of different carbon-reduction strategies. For example, if you have a technology that costs $1 million, and using it lets you avert the release of 10,000 tons of gas, you’re paying $100 per ton of carbon averted. In reality, $100 per ton would still be pretty expensive. But many economists think this price reflects the true cost of greenhouse gases to society, and it also happens to be a memorable round number that makes a good benchmark for discussions.\n",
      "Now let’s treat the shutdown caused by COVID-19 as if it were a carbon-reduction strategy. Has closing off major parts of the economy avoided emissions at anything close to $100 per ton?\n",
      "No. In the United States, according to data from the Rhodium Group, it comes to between $3,200 and $5,400 per ton. In the European Union, it’s roughly the same amount. In other words, the shutdown is reducing emissions at a cost between 32 and 54 times the $100 per ton that economists consider a reasonable price.\n",
      "If you want to understand the kind of damage that climate change will inflict, look at COVID-19 and spread the pain out over a much longer period of time. The loss of life and economic misery caused by this pandemic are on par with what will happen regularly if we do not eliminate the world’s carbon emissions.\n",
      "Let’s look first at the loss of life. How many people will be killed by COVID-19 versus by climate change? Because we want to compare events that happen at different points in time—the pandemic in 2020 and climate change in, say, 2060—and the global population will change in that time, we can’t compare the absolute numbers of deaths. Instead we will use the death rate: that is, the number of deaths per 100,000 people.\n",
      "As of last week, more than 600,000 people are known to have died from COVID-19 worldwide. On an annualized basis, that is a death rate of 14 per 100,000 people.\n",
      "How does that compare to climate change? Within the next 40 years, increases in global temperatures are projected to raise global mortality rates by the same amount—14 deaths per 100,000. By the end of the century, if emissions growth stays high, climate change could be responsible for 73 extra deaths per 100,000 people. In a lower emissions scenario, the death rate drops to 10 per 100,000.\n",
      "In other words, by 2060, climate change could be just as deadly as COVID-19, and by 2100 it could be five times as deadly.\n",
      "The economic picture is also stark. The range of likely impacts from climate change and from COVID-19 varies quite a bit, depending on which economic model you use. But the conclusion is unmistakable: In the next decade or two, the economic damage caused by climate change will likely be as bad as having a COVID-sized pandemic every ten years. And by the end of the century, it will be much worse if the world remains on its current emissions path.\n",
      "(If you’re curious, here is the math. Recent models suggest that the cost of climate change in 2030 will likely be roughly 1 percent of America's GDP per year. Meanwhile, current estimates for the cost of COVID-19 to the United States this year range between 7 percent and 10 percent of GDP. If we assume that a similar disruption happens once every ten years, that's an average annual cost of 0.7 percent to 1 percent of GDP—roughly equivalent to the damage from climate change.)\n",
      "The key point is not that climate change will be disastrous. The key point is that, if we learn the lessons of COVID-19, we can approach climate change more informed about the consequences of inaction, and more prepared to save lives and prevent the worst possible outcome. The current global crisis can inform our response to the next one.\n",
      "In particular, we should:\n",
      "Let science and innovation lead the way.\n",
      "The relatively small decline in emissions this year makes one thing clear: We cannot get to zero emissions simply—or even mostly—by flying and driving less.\n",
      "Of course, cutting back is a good thing for those who can afford to do it, as I can. And I believe that many people will use teleconferencing to replace some business travel even after the pandemic is over. But overall, the world should be using more energy, not less—as long as it is clean.\n",
      "So just as we need new tests, treatments, and vaccines for the novel coronavirus, we need new tools for fighting climate change: zero-carbon ways to produce electricity, make things, grow food, keep our buildings cool and warm, and move people and goods around the world. And we need new seeds and other innovations to help the world’s poorest people—many of whom are smallholder farmers—adapt to a less predictable climate.\n",
      "Any comprehensive response to climate change will have to tap into many different disciplines. Climate science tells us why we need to deal with this problem, but not how to deal with it. For that, we’ll need biology, chemistry, physics, political science, economics, engineering, and other sciences.\n",
      "Make sure solutions work for poor countries too.\n",
      "We don’t yet know exactly what impact COVID-19 will have on the world’s poorest people, but I am concerned that by the time this is over, they will have had the worst of it. The same goes for climate change. It will hurt the poorest people in the world the most.\n",
      "Consider climate’s impact on death rates. According to a recent study published by Climate Impact Lab, although climate change will push the overall death rate up globally, the overall average will obscure an enormous disparity between rich and poor countries. More than anywhere else, climate change will dramatically increase death rates in poor countries near or below the Equator, where the weather will get even hotter and more unpredictable.\n",
      "The economic pattern will probably be similar: a modest drop in global GDP, but massive declines in poorer, hotter countries.\n",
      "In other words, the effects of climate change will almost certainly be harsher than COVID-19's, and they will be the worst for the people who did the least to cause them. The countries that are contributing the most to this problem have a responsibility to try to solve it.\n",
      "In addition, clean sources of energy need to be cheap enough so that low- and middle-income countries can buy them. These nations are looking to grow their economies by building factories and call centers; if this growth is powered by fossil fuels—which are now the most economical option by far—it will be even harder to get to zero emissions.\n",
      "When there’s a vaccine for the coronavirus, organizations like GAVI will be ready to make sure it reaches the poorest people in the world. But there is no GAVI for clean energy. So governments, inventors, and entrepreneurs around the world need to focus on making green technologies cheap enough that developing countries will not only want them, but be able to afford them.\n",
      "Start now.\n",
      "Unlike the novel coronavirus, for which I think we’ll have a vaccine next year, there is no two-year fix for climate change. It will take decades to develop and deploy all the clean-energy inventions we need.\n",
      "We need to create a plan to avoid a climate disaster—to use the zero-carbon tools we have now, develop and deploy the many innovations we still need, and help the poorest adapt to the temperature increase that is already locked in. Although I am spending most of my time these days on COVID-19, I am still investing in promising new clean energy technologies, building programs that will help innovations scale around the world, and making the case that we need to invest in solutions that will limit the worst impacts of climate change.\n",
      "Some governments and private investors are committing the funding and the policies that will help us get to zero emissions, but we need even more to join in. And we need to act with the same sense of urgency that we have for COVID-19.\n",
      "Health advocates said for years that a pandemic was virtually inevitable. The world did not do enough to prepare, and now we are trying to make up for lost time. This is a cautionary tale for climate change, and it points us toward a better approach. If we start now, tap into the power of science and innovation, and ensure that solutions work for the poorest, we can avoid making the same mistake with climate change.\n",
      "This originally appeared on gatesnotes.com.\n"
     ]
    },
    {
     "data": {
      "text/markdown": [
       "**END**"
      ],
      "text/plain": [
       "<IPython.core.display.Markdown object>"
      ]
     },
     "metadata": {},
     "output_type": "display_data"
    },
    {
     "data": {
      "text/markdown": [
       "**WARNING:-you have close the chrome test browser or no article post yet.**"
      ],
      "text/plain": [
       "<IPython.core.display.Markdown object>"
      ]
     },
     "metadata": {},
     "output_type": "display_data"
    }
   ],
   "source": [
    "try:\n",
    "    box = []\n",
    "    soup = BeautifulSoup(driver.page_source,'html.parser')\n",
    "    divTag = soup.find(\"div\", {\"class\": \"ember-view\"})\n",
    "    tags = soup.find_all(\"article\", {\"class\": \"pv-post-entity--detail-page-format artdeco-container-card pv-post-entity pv-post-entity--detailed ember-view\"})\n",
    "    for tag in tags:\n",
    "        box.append(tag.find('a').get('href'))\n",
    "    main_link = \"https://www.linkedin.com\"\n",
    "    for i in box:\n",
    "        driver.get(main_link+i)\n",
    "\n",
    "        SCROLL_PAUSE_TIME = 2\n",
    "        # Get scroll height\n",
    "        last_height = driver.execute_script(\"return document.body.scrollHeight\")\n",
    "        while True:\n",
    "            # Scroll down to bottom\n",
    "            driver.execute_script(\"window.scrollTo(0, document.body.scrollHeight);\")\n",
    "\n",
    "            # Wait to load page\n",
    "            time.sleep(SCROLL_PAUSE_TIME)\n",
    "\n",
    "            # Calculate new scroll height and compare with last scroll height\n",
    "            new_height = driver.execute_script(\"return document.body.scrollHeight\")\n",
    "            if new_height == last_height:\n",
    "                break\n",
    "            last_height = new_height\n",
    "\n",
    "        WebDriverWait(driver, 10).until(EC.presence_of_element_located((By.CLASS_NAME, \"reader-article-header__title\")))\n",
    "        a = driver.find_element_by_xpath(\"//h1[@dir='ltr']\")\n",
    "        printmd(\"**Heading:-**\"+\" \"+a.text)\n",
    "\n",
    "        WebDriverWait(driver, 10).until(EC.presence_of_element_located((By.CLASS_NAME, \"reader-article-content\")))\n",
    "        a = driver.find_element_by_xpath(\"//div[@class='reader-article-content']\")\n",
    "        paragraphs = a.find_elements_by_tag_name('p')\n",
    "\n",
    "        for paragraph in paragraphs:\n",
    "            print(paragraph.text)\n",
    "\n",
    "        printmd(\"**END**\")\n",
    "\n",
    "except:\n",
    "    printmd(\"**WARNING:-you have close the chrome test browser or no article post yet.**\")\n",
    "    "
   ]
  },
  {
   "cell_type": "code",
   "execution_count": null,
   "metadata": {},
   "outputs": [],
   "source": []
  },
  {
   "cell_type": "code",
   "execution_count": null,
   "metadata": {},
   "outputs": [],
   "source": []
  }
 ],
 "metadata": {
  "kernelspec": {
   "display_name": "Python 3",
   "language": "python",
   "name": "python3"
  },
  "language_info": {
   "codemirror_mode": {
    "name": "ipython",
    "version": 3
   },
   "file_extension": ".py",
   "mimetype": "text/x-python",
   "name": "python",
   "nbconvert_exporter": "python",
   "pygments_lexer": "ipython3",
   "version": "3.7.4"
  }
 },
 "nbformat": 4,
 "nbformat_minor": 2
}
